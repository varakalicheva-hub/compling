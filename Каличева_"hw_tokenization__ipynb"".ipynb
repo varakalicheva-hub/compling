{
  "cells": [
    {
      "cell_type": "markdown",
      "metadata": {
        "id": "view-in-github",
        "colab_type": "text"
      },
      "source": [
        "<a href=\"https://colab.research.google.com/github/varakalicheva-hub/compling/blob/main/%D0%9A%D0%B0%D0%BB%D0%B8%D1%87%D0%B5%D0%B2%D0%B0_%22hw_tokenization__ipynb%22%22.ipynb\" target=\"_parent\"><img src=\"https://colab.research.google.com/assets/colab-badge.svg\" alt=\"Open In Colab\"/></a>"
      ]
    },
    {
      "cell_type": "markdown",
      "metadata": {
        "id": "hiXdJjBa9sCq"
      },
      "source": [
        "# Домашнее задание: Токенизация текста"
      ]
    },
    {
      "cell_type": "markdown",
      "source": [
        "Дан список текстов, которые нужно токенизировать разными способами"
      ],
      "metadata": {
        "id": "1xVbvaj_phyN"
      }
    },
    {
      "cell_type": "code",
      "source": [
        "text = [\n",
        "\"The quick brown fox jumps over the lazy dog. It's a beautiful day!\",\n",
        "\"Dr. Smith arrived at 5:30 p.m. from New York. The meeting cost $1,000.50.\",\n",
        "\"I can't believe she's going! Let's meet at Jane's house. They'll love it.\",\n",
        "\"What's the ETA for the package? Please e-mail support@example.com ASAP!\"\n",
        "]"
      ],
      "metadata": {
        "id": "uj-xaNnwpiPo"
      },
      "execution_count": null,
      "outputs": []
    },
    {
      "cell_type": "markdown",
      "source": [
        " Используйте способы токенизации, которые описаны в практикуме. Каждый способ нужно обернуть в функцию, например:\n",
        "\n",
        " ```python\n",
        " def simple_tokenization(string):\n",
        "   return string.split()\n",
        "   ```"
      ],
      "metadata": {
        "id": "ix1Im4Kcqb3_"
      }
    },
    {
      "cell_type": "markdown",
      "source": [
        "1. Напишите функцию для токенизации по пробелам и знакам препинания (используйте оператор `def`)"
      ],
      "metadata": {
        "id": "Ih0BBOGBpv6Z"
      }
    },
    {
      "cell_type": "code",
      "source": [
        "#импортируем модуль для работы с регулярными выражениями\n",
        "import re\n",
        "\n",
        "#определяем функции токенизации текста\n",
        "def function_1(text):\n",
        "   #создаем пустой список для хранения результата токенизации\n",
        "  tokenized_text = []\n",
        "  #перебираем каждый элемент (строку текста) в списке\n",
        "  for expression in text:\n",
        "    token = re.findall(r'\\w+|[^\\w\\s]', expression) #[^\\w\\s] - находит отдельные символы (знаки препинания и др.)\n",
        "    tokenized_text.extend(token) #extend() добавляет элементы списка, а не сам список\n",
        "  return tokenized_text\n",
        "print(function_1(text))"
      ],
      "metadata": {
        "id": "W1QCaw6cqDnn",
        "colab": {
          "base_uri": "https://localhost:8080/"
        },
        "outputId": "3cbfad48-fa0c-4cb2-da51-d8b77f4377e0"
      },
      "execution_count": null,
      "outputs": [
        {
          "output_type": "stream",
          "name": "stdout",
          "text": [
            "['The', 'quick', 'brown', 'fox', 'jumps', 'over', 'the', 'lazy', 'dog', '.', 'It', \"'\", 's', 'a', 'beautiful', 'day', '!', 'Dr', '.', 'Smith', 'arrived', 'at', '5', ':', '30', 'p', '.', 'm', '.', 'from', 'New', 'York', '.', 'The', 'meeting', 'cost', '$', '1', ',', '000', '.', '50', '.', 'I', 'can', \"'\", 't', 'believe', 'she', \"'\", 's', 'going', '!', 'Let', \"'\", 's', 'meet', 'at', 'Jane', \"'\", 's', 'house', '.', 'They', \"'\", 'll', 'love', 'it', '.', 'What', \"'\", 's', 'the', 'ETA', 'for', 'the', 'package', '?', 'Please', 'e', '-', 'mail', 'support', '@', 'example', '.', 'com', 'ASAP', '!']\n"
          ]
        }
      ]
    },
    {
      "cell_type": "markdown",
      "source": [
        "2. Напишите функцию для токенизации текста с помощью NLTK"
      ],
      "metadata": {
        "id": "GThvPcovqgO5"
      }
    },
    {
      "cell_type": "code",
      "source": [
        "#импортируем библиотеку NLTK для токенизации\n",
        "import nltk\n",
        "nltk.download('punkt', quiet=\"True\") #quiet=\"True\" для того, чтобы в вывод не попадали строки с загрузкой\n",
        "nltk.download('punkt_tab', quiet=\"True\")\n",
        "#импортируем функции word_tokenize из модуля nltk.tokenize\n",
        "from nltk.tokenize import word_tokenize\n",
        "\n",
        "def function_2(text):\n",
        "  tokenized_text = []\n",
        "  for expression in text:\n",
        "     #используем встроенный токенизатор NLTK для разбиения строки на токены\n",
        "    token = word_tokenize(expression) # word_tokenize токенизирует слова, знаки препинания и специальные символы\n",
        "    tokenized_text.extend(token)\n",
        "  return tokenized_text\n",
        "print(function_2(text))"
      ],
      "metadata": {
        "id": "14BIv33iqrkL",
        "colab": {
          "base_uri": "https://localhost:8080/"
        },
        "outputId": "51c251d8-2526-4a19-f321-cca4df86c0c0"
      },
      "execution_count": null,
      "outputs": [
        {
          "output_type": "stream",
          "name": "stdout",
          "text": [
            "['The', 'quick', 'brown', 'fox', 'jumps', 'over', 'the', 'lazy', 'dog', '.', 'It', \"'s\", 'a', 'beautiful', 'day', '!', 'Dr.', 'Smith', 'arrived', 'at', '5:30', 'p.m.', 'from', 'New', 'York', '.', 'The', 'meeting', 'cost', '$', '1,000.50', '.', 'I', 'ca', \"n't\", 'believe', 'she', \"'s\", 'going', '!', 'Let', \"'s\", 'meet', 'at', 'Jane', \"'s\", 'house', '.', 'They', \"'ll\", 'love', 'it', '.', 'What', \"'s\", 'the', 'ETA', 'for', 'the', 'package', '?', 'Please', 'e-mail', 'support', '@', 'example.com', 'ASAP', '!']\n"
          ]
        }
      ]
    },
    {
      "cell_type": "markdown",
      "source": [
        "3. Напишите функцию для токенизации текста с помощью Spacy"
      ],
      "metadata": {
        "id": "GxW7ZP6iqwpt"
      }
    },
    {
      "cell_type": "code",
      "source": [
        "#импортируем библиотеку spaCy для токенизации\n",
        "import spacy\n",
        "#загружаем модель en_core_web_sm\n",
        "nlp = spacy.load(\"en_core_web_sm\")\n",
        "\n",
        "def function_3(text):\n",
        "  tokenized_text = []\n",
        "  for expression in text:\n",
        "#адаптируем код для выбранной библиотеки\n",
        "    doc = nlp(expression)\n",
        "    tokens = [token.text for token in doc]\n",
        "    tokenized_text.extend(tokens)\n",
        "  return tokenized_text\n",
        "print(function_3(text))"
      ],
      "metadata": {
        "id": "B0NQg-VfuFW_",
        "colab": {
          "base_uri": "https://localhost:8080/"
        },
        "outputId": "be612ac4-83f0-40de-9d1e-7832619be85b"
      },
      "execution_count": null,
      "outputs": [
        {
          "output_type": "stream",
          "name": "stdout",
          "text": [
            "['The', 'quick', 'brown', 'fox', 'jumps', 'over', 'the', 'lazy', 'dog', '.', 'It', \"'s\", 'a', 'beautiful', 'day', '!', 'Dr.', 'Smith', 'arrived', 'at', '5:30', 'p.m.', 'from', 'New', 'York', '.', 'The', 'meeting', 'cost', '$', '1,000.50', '.', 'I', 'ca', \"n't\", 'believe', 'she', \"'s\", 'going', '!', 'Let', \"'s\", 'meet', 'at', 'Jane', \"'s\", 'house', '.', 'They', \"'ll\", 'love', 'it', '.', 'What', \"'s\", 'the', 'ETA', 'for', 'the', 'package', '?', 'Please', 'e', '-', 'mail', 'support@example.com', 'ASAP', '!']\n"
          ]
        }
      ]
    },
    {
      "cell_type": "markdown",
      "source": [
        "4. С помощью цикла `for` примените каждую из написанных функций к каждому тексту из списка `texts`"
      ],
      "metadata": {
        "id": "WmyJfB9wuKkm"
      }
    },
    {
      "cell_type": "code",
      "execution_count": null,
      "metadata": {
        "id": "lvUmk94MhrL8",
        "colab": {
          "base_uri": "https://localhost:8080/"
        },
        "outputId": "e6e3f45b-d8d1-4e12-c8af-99d5b1edbc85"
      },
      "outputs": [
        {
          "output_type": "stream",
          "name": "stdout",
          "text": [
            "function 1:['The', 'quick', 'brown', 'fox', 'jumps', 'over', 'the', 'lazy', 'dog', '.', 'It', \"'\", 's', 'a', 'beautiful', 'day', '!', 'Dr', '.', 'Smith', 'arrived', 'at', '5', ':', '30', 'p', '.', 'm', '.', 'from', 'New', 'York', '.', 'The', 'meeting', 'cost', '$', '1', ',', '000', '.', '50', '.', 'I', 'can', \"'\", 't', 'believe', 'she', \"'\", 's', 'going', '!', 'Let', \"'\", 's', 'meet', 'at', 'Jane', \"'\", 's', 'house', '.', 'They', \"'\", 'll', 'love', 'it', '.', 'What', \"'\", 's', 'the', 'ETA', 'for', 'the', 'package', '?', 'Please', 'e', '-', 'mail', 'support', '@', 'example', '.', 'com', 'ASAP', '!']\n",
            "function 2:['The', 'quick', 'brown', 'fox', 'jumps', 'over', 'the', 'lazy', 'dog', '.', 'It', \"'s\", 'a', 'beautiful', 'day', '!', 'Dr.', 'Smith', 'arrived', 'at', '5:30', 'p.m.', 'from', 'New', 'York', '.', 'The', 'meeting', 'cost', '$', '1,000.50', '.', 'I', 'ca', \"n't\", 'believe', 'she', \"'s\", 'going', '!', 'Let', \"'s\", 'meet', 'at', 'Jane', \"'s\", 'house', '.', 'They', \"'ll\", 'love', 'it', '.', 'What', \"'s\", 'the', 'ETA', 'for', 'the', 'package', '?', 'Please', 'e-mail', 'support', '@', 'example.com', 'ASAP', '!']\n",
            "function 3:['The', 'quick', 'brown', 'fox', 'jumps', 'over', 'the', 'lazy', 'dog', '.', 'It', \"'s\", 'a', 'beautiful', 'day', '!', 'Dr.', 'Smith', 'arrived', 'at', '5:30', 'p.m.', 'from', 'New', 'York', '.', 'The', 'meeting', 'cost', '$', '1,000.50', '.', 'I', 'ca', \"n't\", 'believe', 'she', \"'s\", 'going', '!', 'Let', \"'s\", 'meet', 'at', 'Jane', \"'s\", 'house', '.', 'They', \"'ll\", 'love', 'it', '.', 'What', \"'s\", 'the', 'ETA', 'for', 'the', 'package', '?', 'Please', 'e', '-', 'mail', 'support@example.com', 'ASAP', '!']\n"
          ]
        }
      ],
      "source": [
        "#создаем список функций\n",
        "functions=[function_1,function_2,function_3]\n",
        "#создаем пустой список для токенизированных списков\n",
        "token_list = []\n",
        "#перебираем функции, аргумент - text\n",
        "for function in functions:\n",
        "    token_list.append(function(text))\n",
        "\n",
        "#красиво выводим\n",
        "for j, i in enumerate(token_list):\n",
        "    print(f\"function {j+1}:{i}\")\n"
      ]
    },
    {
      "cell_type": "markdown",
      "metadata": {
        "id": "iqAgf6sGhrL8"
      },
      "source": [
        "##### Критерии оценки (макс. балл == 5):\n",
        "\n",
        "- Функциональность (до 4 баллов)): Все методы работают корректно (запускаем код, и он работает)\n",
        "- Качество кода (до 1 балла): Чистый, документированный код с обработкой ошибок (кратко описать, что вы дополнили самостоятельно, например, \"добавлена токенизация `spacy`\")"
      ]
    },
    {
      "cell_type": "markdown",
      "source": [
        "Теоретические вопросы (макс. балл == 5; в ведомость выставляется сумма за практику и теорию)\n",
        "\n",
        "Необходимо дать краткие ответы на вопросы по теме \"токенизация\". В сумме длина ответов на вопрос не должна превышать размер вордовской страницы 14 шрифтом."
      ],
      "metadata": {
        "id": "Mwe1Co6MvibX"
      }
    },
    {
      "cell_type": "markdown",
      "source": [
        "1. Почему простое разделение текста по пробелам и знакам препинания часто является недостаточным для современных NLP-задач? Приведите 2-3 конкретных примера, когда деление текста по символам или словам не работает. (2 балла за полный и подробный ответ на вопрос)\n",
        "\n",
        "Разделение текстам по пробелам может привести к тому, что то, что в естественном языке рассматривается как один токен, может быть разбито на два. Например, нередко подобная проблема возникает с некоторыми сложными именами собственными (Нотр-Дам де Пари, Нью-Йорк) или заимствованными иностранными фразами (laissez faire).\n",
        "\n",
        "Напротив, токенизация по знакам препинания может разделить и вовсе удалить значимую точку или дефис. Примром могут служить точки, которые следуют за аббревиатурой (dr., Mr.) и должны рассматриваться как часть того же токена или не удаляться.\n",
        "\n",
        "Источник: https://habr.com/ru/companies/otus/articles/705482/\n",
        "\n",
        "2. Сколько токенов во фразе \"You shall know a word by the company it keeps\" в модели GPT-5? Как вы получили это значение? (1 балл за правильный ответ и ссылку на ресурс, с помощью которого вы узнали эту информацию)\n",
        "\n",
        "Всего 10 токенов. Для получения этой информации я обратилась к демо-версии токенайзера https://gpt-tokenizer.dev/ и выбрала модель gpt-5.\n",
        "\n",
        "3. Опишите своими словами работу алгоритма BPE (можно форматировать ответ с использованием списков, 2 балла за корректное описание и ясное изложение ответа)\n",
        "\n",
        "BPE — это метод сжатия данных, при котором наиболее часто встречающиеся пары последовательных пары символов (байтов) в тексте или последовательности данных  объединяются в один новый. Он объединяет наиболее частотные пары символов или подслов в корпусе до тех пор, пока не будет достигнут предопределенный размер словаря.\n",
        "\n",
        "Пример:\n",
        "1. Было: слова low и lowest разбиты на буквы: l o w </w> и l o w e s t </w>\n",
        "2. Нашли самые частые пары: l o и o w (встречались по 2 раза)\n",
        "3. Склеили поэтапно: 1)o + w = ow; 2)l + ow = low ; 3)e + s = es и 4)es + t = est\n",
        "4. Стало: low → low </w> и lowest → low est </w>\n",
        "\n",
        "Тем самым, вместо того чтобы рассматривать каждый символ или слово как отдельную единицу, BPE оперирует единицами-подсловами, что помогает решить 3 задачи:\n",
        "\n",
        "1. Это предотвращает чрезмерное увеличение количества токенов, необходимых для представления текста, что является основной проблемой при токенизации символов;\n",
        "2. Это помогает сохранить языковые закономерности: метод кодирует лингвистические шаблоны, такие как распространённые префиксы, суффиксы и основы слов, что повышает эффективность токенизации для последующих задач;\n",
        "3. Это повышает эффективность, так как часто встречающиеся символы или части слов группируются в отдельные токены, что минимизирует общее количество необходимых токенов и позволяет помещать более длинные предложения в контекстное окно LLM во время предварительного обучения.\n",
        "\n",
        "Окончательный словарь состоит как из символов, так и из значимых подслов, которые часто встречаются вместе в корпусе.\n",
        "\n",
        "Источник: https://vizuara.substack.com/p/understanding-byte-pair-encoding\n"
      ],
      "metadata": {
        "id": "mgE2bQFXv0MG"
      }
    }
  ],
  "metadata": {
    "colab": {
      "provenance": [],
      "include_colab_link": true
    },
    "kernelspec": {
      "display_name": "Python 3",
      "name": "python3"
    },
    "language_info": {
      "name": "python"
    }
  },
  "nbformat": 4,
  "nbformat_minor": 0
}